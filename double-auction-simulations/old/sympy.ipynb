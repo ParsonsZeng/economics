{
 "cells": [
  {
   "cell_type": "code",
   "execution_count": 7,
   "metadata": {},
   "outputs": [],
   "source": [
    "import numpy as np\n",
    "import sympy\n",
    "sympy.init_printing(use_unicode=True)\n",
    "from sympy import *\n",
    "from sympy.solvers import solve\n",
    "from IPython.display import display\n",
    "\n",
    "def simplified(exp):\n",
    "    simp = simplify(exp)\n",
    "    display(simp)\n",
    "    return simp\n",
    "\n",
    "def firstOrderCondition(exp, var, iSelectedSolution=None):\n",
    "    diffExp = simplify(diff(exp, var))\n",
    "    display(diffExp)\n",
    "    solutions = solve(diffExp, var)\n",
    "    display(solutions)\n",
    "    if iSelectedSolution is not None:\n",
    "        solution = solutions[iSelectedSolution]\n",
    "        optimum = exp.subs(var, solution)\n",
    "        return simplified(optimum)\n",
    "    else:\n",
    "        return solutions"
   ]
  },
  {
   "cell_type": "code",
   "execution_count": 9,
   "metadata": {},
   "outputs": [],
   "source": [
    "t,q,k,m=symbols(\"t q k m\",positive=True)"
   ]
  },
  {
   "cell_type": "code",
   "execution_count": 11,
   "metadata": {},
   "outputs": [
    {
     "data": {
      "image/png": "[encoded data removed]",
      "text/latex": [
       "$$\\frac{\\left(4 q - t\\right)^{2}}{4 m^{2} t}$$"
      ],
      "text/plain": [
       "         2\n",
       "(4⋅q - t) \n",
       "──────────\n",
       "     2    \n",
       "  4⋅m ⋅t  "
      ]
     },
     "metadata": {},
     "output_type": "display_data"
    }
   ],
   "source": [
    "e1 = simplified((t/2-2*q)**2 / m**2 / t)"
   ]
  },
  {
   "cell_type": "code",
   "execution_count": 12,
   "metadata": {},
   "outputs": [
    {
     "data": {
      "image/png": "[encoded data removed]",
      "text/latex": [
       "$$\\frac{q^{2}}{k m^{2}}$$"
      ],
      "text/plain": [
       "  2 \n",
       " q  \n",
       "────\n",
       "   2\n",
       "k⋅m "
      ]
     },
     "metadata": {},
     "output_type": "display_data"
    }
   ],
   "source": [
    "e2 = simplified(q**2 / m**2 / k)"
   ]
  },
  {
   "cell_type": "code",
   "execution_count": 16,
   "metadata": {},
   "outputs": [
    {
     "data": {
      "image/png": "[encoded data removed]",
      "text/latex": [
       "$$\\frac{2}{k} \\left(q^{\\frac{3}{2}} \\sqrt{4 k + q} + q \\left(2 k + q\\right)\\right)$$"
      ],
      "text/plain": [
       "  ⎛ 3/2   _________              ⎞\n",
       "2⋅⎝q   ⋅╲╱ 4⋅k + q  + q⋅(2⋅k + q)⎠\n",
       "──────────────────────────────────\n",
       "                k                 "
      ]
     },
     "metadata": {},
     "output_type": "display_data"
    }
   ],
   "source": [
    "t0 = simplified(solve(e1-e2, t)[1])"
   ]
  },
  {
   "cell_type": "code",
   "execution_count": 15,
   "metadata": {},
   "outputs": [
    {
     "data": {
      "image/png": "[encoded data removed]",
      "text/latex": [
       "$$\\left [ \\frac{1}{k} \\left(- k m^{2} \\log{\\left (2 \\right )} + 4 k q + 2 q^{2} - \\sqrt{- \\left(k m^{2} \\log{\\left (2 \\right )} - 2 q^{2}\\right) \\left(- k m^{2} \\log{\\left (2 \\right )} + 8 k q + 2 q^{2}\\right)}\\right), \\quad \\frac{1}{k} \\left(- k m^{2} \\log{\\left (2 \\right )} + 4 k q + 2 q^{2} + \\sqrt{- \\left(k m^{2} \\log{\\left (2 \\right )} - 2 q^{2}\\right) \\left(- k m^{2} \\log{\\left (2 \\right )} + 8 k q + 2 q^{2}\\right)}\\right)\\right ]$$"
      ],
      "text/plain": [
       "⎡                                  ___________________________________________\n",
       "⎢     2                     2     ╱  ⎛   2             2⎞ ⎛     2             \n",
       "⎢- k⋅m ⋅log(2) + 4⋅k⋅q + 2⋅q  - ╲╱  -⎝k⋅m ⋅log(2) - 2⋅q ⎠⋅⎝- k⋅m ⋅log(2) + 8⋅k\n",
       "⎢─────────────────────────────────────────────────────────────────────────────\n",
       "⎣                                           k                                 \n",
       "\n",
       "___________                                    _______________________________\n",
       "        2⎞        2                     2     ╱  ⎛   2             2⎞ ⎛     2 \n",
       "⋅q + 2⋅q ⎠   - k⋅m ⋅log(2) + 4⋅k⋅q + 2⋅q  + ╲╱  -⎝k⋅m ⋅log(2) - 2⋅q ⎠⋅⎝- k⋅m ⋅\n",
       "───────────, ─────────────────────────────────────────────────────────────────\n",
       "                                                        k                     \n",
       "\n",
       "_______________________⎤\n",
       "                    2⎞ ⎥\n",
       "log(2) + 8⋅k⋅q + 2⋅q ⎠ ⎥\n",
       "───────────────────────⎥\n",
       "                       ⎦"
      ]
     },
     "execution_count": 15,
     "metadata": {},
     "output_type": "execute_result"
    }
   ],
   "source": [
    "solve(2*exp(-2*e1)-4*exp(-2*e2), t)"
   ]
  },
  {
   "cell_type": "code",
   "execution_count": 19,
   "metadata": {},
   "outputs": [
    {
     "data": {
      "image/png": "[encoded data removed]",
      "text/latex": [
       "$$\\frac{2}{k} \\left(q^{\\frac{3}{2}} \\sqrt{4 k + q} + q \\left(2 k + q\\right)\\right)$$"
      ],
      "text/plain": [
       "  ⎛ 3/2   _________              ⎞\n",
       "2⋅⎝q   ⋅╲╱ 4⋅k + q  + q⋅(2⋅k + q)⎠\n",
       "──────────────────────────────────\n",
       "                k                 "
      ]
     },
     "execution_count": 19,
     "metadata": {},
     "output_type": "execute_result"
    }
   ],
   "source": [
    "t0"
   ]
  },
  {
   "cell_type": "code",
   "execution_count": 22,
   "metadata": {},
   "outputs": [
    {
     "data": {
      "image/png": "[encoded data removed]",
      "text/latex": [
       "$$\\frac{2}{k} \\left(3 k q + q^{\\frac{3}{2}} \\sqrt{4 k + q} + q^{2}\\right)$$"
      ],
      "text/plain": [
       "  ⎛         3/2   _________    2⎞\n",
       "2⋅⎝3⋅k⋅q + q   ⋅╲╱ 4⋅k + q  + q ⎠\n",
       "─────────────────────────────────\n",
       "                k                "
      ]
     },
     "metadata": {},
     "output_type": "display_data"
    }
   ],
   "source": [
    "t1 = simplified(t0 + 2*q)"
   ]
  },
  {
   "cell_type": "code",
   "execution_count": 31,
   "metadata": {},
   "outputs": [
    {
     "data": {
      "image/png": "[encoded data removed]",
      "text/latex": [
       "$$10 e^{- \\frac{2 q^{2}}{k m^{2}}}$$"
      ],
      "text/plain": [
       "        2 \n",
       "    -2⋅q  \n",
       "    ──────\n",
       "        2 \n",
       "     k⋅m  \n",
       "10⋅ℯ      "
      ]
     },
     "metadata": {},
     "output_type": "display_data"
    }
   ],
   "source": [
    "pr = simplified(10*exp(-2*q**2/m**2/k))"
   ]
  },
  {
   "cell_type": "code",
   "execution_count": 34,
   "metadata": {},
   "outputs": [
    {
     "ename": "NotImplementedError",
     "evalue": "multiple generators [q, exp(q**2/(k*m**2))]\nNo algorithms are implemented to solve equation -6*q + 10*exp(-2*q**2/(k*m**2))",
     "output_type": "error",
     "traceback": [
      "\u001b[0;31m---------------------------------------------------------------------------\u001b[0m",
      "\u001b[0;31mNotImplementedError\u001b[0m                       Traceback (most recent call last)",
      "\u001b[0;32m<ipython-input-34-3bc2447134af>\u001b[0m in \u001b[0;36m<module>\u001b[0;34m()\u001b[0m\n\u001b[0;32m----> 1\u001b[0;31m \u001b[0msolve\u001b[0m\u001b[0;34m(\u001b[0m\u001b[0mpr\u001b[0m\u001b[0;34m-\u001b[0m\u001b[0;36m6\u001b[0m\u001b[0;34m*\u001b[0m\u001b[0mq\u001b[0m\u001b[0;34m,\u001b[0m\u001b[0mq\u001b[0m\u001b[0;34m)\u001b[0m\u001b[0;34m\u001b[0m\u001b[0m\n\u001b[0m",
      "\u001b[0;32m/usr/local/lib/python3.5/dist-packages/sympy/solvers/solvers.py\u001b[0m in \u001b[0;36msolve\u001b[0;34m(f, *symbols, **flags)\u001b[0m\n\u001b[1;32m   1063\u001b[0m     \u001b[0;31m###########################################################################\u001b[0m\u001b[0;34m\u001b[0m\u001b[0;34m\u001b[0m\u001b[0m\n\u001b[1;32m   1064\u001b[0m     \u001b[0;32mif\u001b[0m \u001b[0mbare_f\u001b[0m\u001b[0;34m:\u001b[0m\u001b[0;34m\u001b[0m\u001b[0m\n\u001b[0;32m-> 1065\u001b[0;31m         \u001b[0msolution\u001b[0m \u001b[0;34m=\u001b[0m \u001b[0m_solve\u001b[0m\u001b[0;34m(\u001b[0m\u001b[0mf\u001b[0m\u001b[0;34m[\u001b[0m\u001b[0;36m0\u001b[0m\u001b[0;34m]\u001b[0m\u001b[0;34m,\u001b[0m \u001b[0;34m*\u001b[0m\u001b[0msymbols\u001b[0m\u001b[0;34m,\u001b[0m \u001b[0;34m**\u001b[0m\u001b[0mflags\u001b[0m\u001b[0;34m)\u001b[0m\u001b[0;34m\u001b[0m\u001b[0m\n\u001b[0m\u001b[1;32m   1066\u001b[0m     \u001b[0;32melse\u001b[0m\u001b[0;34m:\u001b[0m\u001b[0;34m\u001b[0m\u001b[0m\n\u001b[1;32m   1067\u001b[0m         \u001b[0msolution\u001b[0m \u001b[0;34m=\u001b[0m \u001b[0m_solve_system\u001b[0m\u001b[0;34m(\u001b[0m\u001b[0mf\u001b[0m\u001b[0;34m,\u001b[0m \u001b[0msymbols\u001b[0m\u001b[0;34m,\u001b[0m \u001b[0;34m**\u001b[0m\u001b[0mflags\u001b[0m\u001b[0;34m)\u001b[0m\u001b[0;34m\u001b[0m\u001b[0m\n",
      "\u001b[0;32m/usr/local/lib/python3.5/dist-packages/sympy/solvers/solvers.py\u001b[0m in \u001b[0;36m_solve\u001b[0;34m(f, *symbols, **flags)\u001b[0m\n\u001b[1;32m   1632\u001b[0m \u001b[0;34m\u001b[0m\u001b[0m\n\u001b[1;32m   1633\u001b[0m     \u001b[0;32mif\u001b[0m \u001b[0mresult\u001b[0m \u001b[0;32mis\u001b[0m \u001b[0;32mFalse\u001b[0m\u001b[0;34m:\u001b[0m\u001b[0;34m\u001b[0m\u001b[0m\n\u001b[0;32m-> 1634\u001b[0;31m         \u001b[0;32mraise\u001b[0m \u001b[0mNotImplementedError\u001b[0m\u001b[0;34m(\u001b[0m\u001b[0;34m'\\n'\u001b[0m\u001b[0;34m.\u001b[0m\u001b[0mjoin\u001b[0m\u001b[0;34m(\u001b[0m\u001b[0;34m[\u001b[0m\u001b[0mmsg\u001b[0m\u001b[0;34m,\u001b[0m \u001b[0mnot_impl_msg\u001b[0m \u001b[0;34m%\u001b[0m \u001b[0mf\u001b[0m\u001b[0;34m]\u001b[0m\u001b[0;34m)\u001b[0m\u001b[0;34m)\u001b[0m\u001b[0;34m\u001b[0m\u001b[0m\n\u001b[0m\u001b[1;32m   1635\u001b[0m \u001b[0;34m\u001b[0m\u001b[0m\n\u001b[1;32m   1636\u001b[0m     \u001b[0;32mif\u001b[0m \u001b[0mflags\u001b[0m\u001b[0;34m.\u001b[0m\u001b[0mget\u001b[0m\u001b[0;34m(\u001b[0m\u001b[0;34m'simplify'\u001b[0m\u001b[0;34m,\u001b[0m \u001b[0;32mTrue\u001b[0m\u001b[0;34m)\u001b[0m\u001b[0;34m:\u001b[0m\u001b[0;34m\u001b[0m\u001b[0m\n",
      "\u001b[0;31mNotImplementedError\u001b[0m: multiple generators [q, exp(q**2/(k*m**2))]\nNo algorithms are implemented to solve equation -6*q + 10*exp(-2*q**2/(k*m**2))"
     ]
    }
   ],
   "source": [
    "solve(pr-6*q,q)"
   ]
  },
  {
   "cell_type": "code",
   "execution_count": 35,
   "metadata": {},
   "outputs": [
    {
     "data": {
      "image/png": "[encoded data removed]",
      "text/latex": [
       "$$6 - \\frac{40 q}{k m^{2}} e^{- \\frac{2 q^{2}}{k m^{2}}}$$"
      ],
      "text/plain": [
       "              2 \n",
       "          -2⋅q  \n",
       "          ──────\n",
       "              2 \n",
       "           k⋅m  \n",
       "    40⋅q⋅ℯ      \n",
       "6 - ────────────\n",
       "           2    \n",
       "        k⋅m     "
      ]
     },
     "metadata": {},
     "output_type": "display_data"
    },
    {
     "ename": "NotImplementedError",
     "evalue": "multiple generators [q, exp(q**2/(k*m**2))]\nNo algorithms are implemented to solve equation 6 - 40*q*exp(-2*q**2/(k*m**2))/(k*m**2)",
     "output_type": "error",
     "traceback": [
      "\u001b[0;31m---------------------------------------------------------------------------\u001b[0m",
      "\u001b[0;31mNotImplementedError\u001b[0m                       Traceback (most recent call last)",
      "\u001b[0;32m<ipython-input-35-cef4dbea941b>\u001b[0m in \u001b[0;36m<module>\u001b[0;34m()\u001b[0m\n\u001b[0;32m----> 1\u001b[0;31m \u001b[0mfirstOrderCondition\u001b[0m\u001b[0;34m(\u001b[0m\u001b[0;36m6\u001b[0m\u001b[0;34m*\u001b[0m\u001b[0mq\u001b[0m\u001b[0;34m+\u001b[0m\u001b[0mpr\u001b[0m\u001b[0;34m,\u001b[0m \u001b[0mq\u001b[0m\u001b[0;34m)\u001b[0m\u001b[0;34m\u001b[0m\u001b[0m\n\u001b[0m",
      "\u001b[0;32m<ipython-input-7-1929b16f5e40>\u001b[0m in \u001b[0;36mfirstOrderCondition\u001b[0;34m(exp, var, iSelectedSolution)\u001b[0m\n\u001b[1;32m     14\u001b[0m     \u001b[0mdiffExp\u001b[0m \u001b[0;34m=\u001b[0m \u001b[0msimplify\u001b[0m\u001b[0;34m(\u001b[0m\u001b[0mdiff\u001b[0m\u001b[0;34m(\u001b[0m\u001b[0mexp\u001b[0m\u001b[0;34m,\u001b[0m \u001b[0mvar\u001b[0m\u001b[0;34m)\u001b[0m\u001b[0;34m)\u001b[0m\u001b[0;34m\u001b[0m\u001b[0m\n\u001b[1;32m     15\u001b[0m     \u001b[0mdisplay\u001b[0m\u001b[0;34m(\u001b[0m\u001b[0mdiffExp\u001b[0m\u001b[0;34m)\u001b[0m\u001b[0;34m\u001b[0m\u001b[0m\n\u001b[0;32m---> 16\u001b[0;31m     \u001b[0msolutions\u001b[0m \u001b[0;34m=\u001b[0m \u001b[0msolve\u001b[0m\u001b[0;34m(\u001b[0m\u001b[0mdiffExp\u001b[0m\u001b[0;34m,\u001b[0m \u001b[0mvar\u001b[0m\u001b[0;34m)\u001b[0m\u001b[0;34m\u001b[0m\u001b[0m\n\u001b[0m\u001b[1;32m     17\u001b[0m     \u001b[0mdisplay\u001b[0m\u001b[0;34m(\u001b[0m\u001b[0msolutions\u001b[0m\u001b[0;34m)\u001b[0m\u001b[0;34m\u001b[0m\u001b[0m\n\u001b[1;32m     18\u001b[0m     \u001b[0;32mif\u001b[0m \u001b[0miSelectedSolution\u001b[0m \u001b[0;32mis\u001b[0m \u001b[0;32mnot\u001b[0m \u001b[0;32mNone\u001b[0m\u001b[0;34m:\u001b[0m\u001b[0;34m\u001b[0m\u001b[0m\n",
      "\u001b[0;32m/usr/local/lib/python3.5/dist-packages/sympy/solvers/solvers.py\u001b[0m in \u001b[0;36msolve\u001b[0;34m(f, *symbols, **flags)\u001b[0m\n\u001b[1;32m   1063\u001b[0m     \u001b[0;31m###########################################################################\u001b[0m\u001b[0;34m\u001b[0m\u001b[0;34m\u001b[0m\u001b[0m\n\u001b[1;32m   1064\u001b[0m     \u001b[0;32mif\u001b[0m \u001b[0mbare_f\u001b[0m\u001b[0;34m:\u001b[0m\u001b[0;34m\u001b[0m\u001b[0m\n\u001b[0;32m-> 1065\u001b[0;31m         \u001b[0msolution\u001b[0m \u001b[0;34m=\u001b[0m \u001b[0m_solve\u001b[0m\u001b[0;34m(\u001b[0m\u001b[0mf\u001b[0m\u001b[0;34m[\u001b[0m\u001b[0;36m0\u001b[0m\u001b[0;34m]\u001b[0m\u001b[0;34m,\u001b[0m \u001b[0;34m*\u001b[0m\u001b[0msymbols\u001b[0m\u001b[0;34m,\u001b[0m \u001b[0;34m**\u001b[0m\u001b[0mflags\u001b[0m\u001b[0;34m)\u001b[0m\u001b[0;34m\u001b[0m\u001b[0m\n\u001b[0m\u001b[1;32m   1066\u001b[0m     \u001b[0;32melse\u001b[0m\u001b[0;34m:\u001b[0m\u001b[0;34m\u001b[0m\u001b[0m\n\u001b[1;32m   1067\u001b[0m         \u001b[0msolution\u001b[0m \u001b[0;34m=\u001b[0m \u001b[0m_solve_system\u001b[0m\u001b[0;34m(\u001b[0m\u001b[0mf\u001b[0m\u001b[0;34m,\u001b[0m \u001b[0msymbols\u001b[0m\u001b[0;34m,\u001b[0m \u001b[0;34m**\u001b[0m\u001b[0mflags\u001b[0m\u001b[0;34m)\u001b[0m\u001b[0;34m\u001b[0m\u001b[0m\n",
      "\u001b[0;32m/usr/local/lib/python3.5/dist-packages/sympy/solvers/solvers.py\u001b[0m in \u001b[0;36m_solve\u001b[0;34m(f, *symbols, **flags)\u001b[0m\n\u001b[1;32m   1632\u001b[0m \u001b[0;34m\u001b[0m\u001b[0m\n\u001b[1;32m   1633\u001b[0m     \u001b[0;32mif\u001b[0m \u001b[0mresult\u001b[0m \u001b[0;32mis\u001b[0m \u001b[0;32mFalse\u001b[0m\u001b[0;34m:\u001b[0m\u001b[0;34m\u001b[0m\u001b[0m\n\u001b[0;32m-> 1634\u001b[0;31m         \u001b[0;32mraise\u001b[0m \u001b[0mNotImplementedError\u001b[0m\u001b[0;34m(\u001b[0m\u001b[0;34m'\\n'\u001b[0m\u001b[0;34m.\u001b[0m\u001b[0mjoin\u001b[0m\u001b[0;34m(\u001b[0m\u001b[0;34m[\u001b[0m\u001b[0mmsg\u001b[0m\u001b[0;34m,\u001b[0m \u001b[0mnot_impl_msg\u001b[0m \u001b[0;34m%\u001b[0m \u001b[0mf\u001b[0m\u001b[0;34m]\u001b[0m\u001b[0;34m)\u001b[0m\u001b[0;34m)\u001b[0m\u001b[0;34m\u001b[0m\u001b[0m\n\u001b[0m\u001b[1;32m   1635\u001b[0m \u001b[0;34m\u001b[0m\u001b[0m\n\u001b[1;32m   1636\u001b[0m     \u001b[0;32mif\u001b[0m \u001b[0mflags\u001b[0m\u001b[0;34m.\u001b[0m\u001b[0mget\u001b[0m\u001b[0;34m(\u001b[0m\u001b[0;34m'simplify'\u001b[0m\u001b[0;34m,\u001b[0m \u001b[0;32mTrue\u001b[0m\u001b[0;34m)\u001b[0m\u001b[0;34m:\u001b[0m\u001b[0;34m\u001b[0m\u001b[0m\n",
      "\u001b[0;31mNotImplementedError\u001b[0m: multiple generators [q, exp(q**2/(k*m**2))]\nNo algorithms are implemented to solve equation 6 - 40*q*exp(-2*q**2/(k*m**2))/(k*m**2)"
     ]
    }
   ],
   "source": [
    "firstOrderCondition(6*q+pr, q)"
   ]
  },
  {
   "cell_type": "code",
   "execution_count": 36,
   "metadata": {},
   "outputs": [
    {
     "data": {
      "image/png": "[encoded data removed]",
      "text/latex": [
       "$$\\frac{12 \\sqrt{q}}{\\sqrt{4 k + q}} + 6 + \\frac{4 q^{\\frac{3}{2}}}{k \\sqrt{4 k + q}} + \\frac{4 q}{k} - \\frac{40 q}{k m^{2}} e^{- \\frac{2 q^{2}}{k m^{2}}}$$"
      ],
      "text/plain": [
       "                                                  2 \n",
       "                                              -2⋅q  \n",
       "                                              ──────\n",
       "                                                  2 \n",
       "                         3/2                   k⋅m  \n",
       "   12⋅√q              4⋅q         4⋅q   40⋅q⋅ℯ      \n",
       "─────────── + 6 + ───────────── + ─── - ────────────\n",
       "  _________           _________    k           2    \n",
       "╲╱ 4⋅k + q        k⋅╲╱ 4⋅k + q              k⋅m     "
      ]
     },
     "metadata": {},
     "output_type": "display_data"
    },
    {
     "data": {
      "image/png": "[encoded data removed]",
      "text/latex": [
       "$$\\left [ \\right ]$$"
      ],
      "text/plain": [
       "[]"
      ]
     },
     "metadata": {},
     "output_type": "display_data"
    },
    {
     "data": {
      "image/png": "[encoded data removed]",
      "text/latex": [
       "$$\\left [ \\right ]$$"
      ],
      "text/plain": [
       "[]"
      ]
     },
     "execution_count": 36,
     "metadata": {},
     "output_type": "execute_result"
    }
   ],
   "source": [
    "firstOrderCondition(t1+pr, q)"
   ]
  },
  {
   "cell_type": "code",
   "execution_count": 29,
   "metadata": {},
   "outputs": [
    {
     "ename": "NotImplementedError",
     "evalue": "multiple generators [q, exp(q**2/(k*m**2))]\nNo algorithms are implemented to solve equation 6*q - 10*exp(-2*q**2/(k*m**2))",
     "output_type": "error",
     "traceback": [
      "\u001b[0;31m---------------------------------------------------------------------------\u001b[0m",
      "\u001b[0;31mNotImplementedError\u001b[0m                       Traceback (most recent call last)",
      "\u001b[0;32m<ipython-input-29-7060307ffa2f>\u001b[0m in \u001b[0;36m<module>\u001b[0;34m()\u001b[0m\n\u001b[0;32m----> 1\u001b[0;31m \u001b[0msolve\u001b[0m\u001b[0;34m(\u001b[0m\u001b[0;36m6\u001b[0m\u001b[0;34m*\u001b[0m\u001b[0mq\u001b[0m\u001b[0;34m-\u001b[0m\u001b[0mpr\u001b[0m\u001b[0;34m,\u001b[0m\u001b[0mq\u001b[0m\u001b[0;34m)\u001b[0m\u001b[0;34m\u001b[0m\u001b[0m\n\u001b[0m",
      "\u001b[0;32m/usr/local/lib/python3.5/dist-packages/sympy/solvers/solvers.py\u001b[0m in \u001b[0;36msolve\u001b[0;34m(f, *symbols, **flags)\u001b[0m\n\u001b[1;32m   1063\u001b[0m     \u001b[0;31m###########################################################################\u001b[0m\u001b[0;34m\u001b[0m\u001b[0;34m\u001b[0m\u001b[0m\n\u001b[1;32m   1064\u001b[0m     \u001b[0;32mif\u001b[0m \u001b[0mbare_f\u001b[0m\u001b[0;34m:\u001b[0m\u001b[0;34m\u001b[0m\u001b[0m\n\u001b[0;32m-> 1065\u001b[0;31m         \u001b[0msolution\u001b[0m \u001b[0;34m=\u001b[0m \u001b[0m_solve\u001b[0m\u001b[0;34m(\u001b[0m\u001b[0mf\u001b[0m\u001b[0;34m[\u001b[0m\u001b[0;36m0\u001b[0m\u001b[0;34m]\u001b[0m\u001b[0;34m,\u001b[0m \u001b[0;34m*\u001b[0m\u001b[0msymbols\u001b[0m\u001b[0;34m,\u001b[0m \u001b[0;34m**\u001b[0m\u001b[0mflags\u001b[0m\u001b[0;34m)\u001b[0m\u001b[0;34m\u001b[0m\u001b[0m\n\u001b[0m\u001b[1;32m   1066\u001b[0m     \u001b[0;32melse\u001b[0m\u001b[0;34m:\u001b[0m\u001b[0;34m\u001b[0m\u001b[0m\n\u001b[1;32m   1067\u001b[0m         \u001b[0msolution\u001b[0m \u001b[0;34m=\u001b[0m \u001b[0m_solve_system\u001b[0m\u001b[0;34m(\u001b[0m\u001b[0mf\u001b[0m\u001b[0;34m,\u001b[0m \u001b[0msymbols\u001b[0m\u001b[0;34m,\u001b[0m \u001b[0;34m**\u001b[0m\u001b[0mflags\u001b[0m\u001b[0;34m)\u001b[0m\u001b[0;34m\u001b[0m\u001b[0m\n",
      "\u001b[0;32m/usr/local/lib/python3.5/dist-packages/sympy/solvers/solvers.py\u001b[0m in \u001b[0;36m_solve\u001b[0;34m(f, *symbols, **flags)\u001b[0m\n\u001b[1;32m   1632\u001b[0m \u001b[0;34m\u001b[0m\u001b[0m\n\u001b[1;32m   1633\u001b[0m     \u001b[0;32mif\u001b[0m \u001b[0mresult\u001b[0m \u001b[0;32mis\u001b[0m \u001b[0;32mFalse\u001b[0m\u001b[0;34m:\u001b[0m\u001b[0;34m\u001b[0m\u001b[0m\n\u001b[0;32m-> 1634\u001b[0;31m         \u001b[0;32mraise\u001b[0m \u001b[0mNotImplementedError\u001b[0m\u001b[0;34m(\u001b[0m\u001b[0;34m'\\n'\u001b[0m\u001b[0;34m.\u001b[0m\u001b[0mjoin\u001b[0m\u001b[0;34m(\u001b[0m\u001b[0;34m[\u001b[0m\u001b[0mmsg\u001b[0m\u001b[0;34m,\u001b[0m \u001b[0mnot_impl_msg\u001b[0m \u001b[0;34m%\u001b[0m \u001b[0mf\u001b[0m\u001b[0;34m]\u001b[0m\u001b[0;34m)\u001b[0m\u001b[0;34m)\u001b[0m\u001b[0;34m\u001b[0m\u001b[0m\n\u001b[0m\u001b[1;32m   1635\u001b[0m \u001b[0;34m\u001b[0m\u001b[0m\n\u001b[1;32m   1636\u001b[0m     \u001b[0;32mif\u001b[0m \u001b[0mflags\u001b[0m\u001b[0;34m.\u001b[0m\u001b[0mget\u001b[0m\u001b[0;34m(\u001b[0m\u001b[0;34m'simplify'\u001b[0m\u001b[0;34m,\u001b[0m \u001b[0;32mTrue\u001b[0m\u001b[0;34m)\u001b[0m\u001b[0;34m:\u001b[0m\u001b[0;34m\u001b[0m\u001b[0m\n",
      "\u001b[0;31mNotImplementedError\u001b[0m: multiple generators [q, exp(q**2/(k*m**2))]\nNo algorithms are implemented to solve equation 6*q - 10*exp(-2*q**2/(k*m**2))"
     ]
    }
   ],
   "source": [
    "solve(6*q-pr,q)"
   ]
  },
  {
   "cell_type": "code",
   "execution_count": 37,
   "metadata": {},
   "outputs": [
    {
     "data": {
      "image/png": "[encoded data removed]",
      "text/latex": [
       "$$\\left [ \\frac{1}{2 k} \\left(- q^{\\frac{3}{2}} \\sqrt{4 k + q} + q \\left(2 k + q\\right)\\right), \\quad \\frac{1}{2 k} \\left(q^{\\frac{3}{2}} \\sqrt{4 k + q} + q \\left(2 k + q\\right)\\right)\\right ]$$"
      ],
      "text/plain": [
       "⎡   3/2   _________                 3/2   _________              ⎤\n",
       "⎢- q   ⋅╲╱ 4⋅k + q  + q⋅(2⋅k + q)  q   ⋅╲╱ 4⋅k + q  + q⋅(2⋅k + q)⎥\n",
       "⎢────────────────────────────────, ──────────────────────────────⎥\n",
       "⎣              2⋅k                              2⋅k              ⎦"
      ]
     },
     "execution_count": 37,
     "metadata": {},
     "output_type": "execute_result"
    }
   ],
   "source": [
    "solve( (t-q)**2/t - q**2/k, t )"
   ]
  },
  {
   "cell_type": "code",
   "execution_count": 39,
   "metadata": {},
   "outputs": [
    {
     "data": {
      "image/png": "[encoded data removed]",
      "text/latex": [
       "$$- \\frac{32 k}{m^{2}} q e^{- \\frac{2 k}{m^{2}} q^{2}} + 18$$"
      ],
      "text/plain": [
       "                2      \n",
       "          -2⋅k⋅q       \n",
       "          ────────     \n",
       "              2        \n",
       "             m         \n",
       "  32⋅k⋅q⋅ℯ             \n",
       "- ──────────────── + 18\n",
       "          2            \n",
       "         m             "
      ]
     },
     "metadata": {},
     "output_type": "display_data"
    },
    {
     "ename": "NotImplementedError",
     "evalue": "multiple generators [q, exp(k*q**2/m**2)]\nNo algorithms are implemented to solve equation -32*k*q*exp(-2*k*q**2/m**2)/m**2 + 18",
     "output_type": "error",
     "traceback": [
      "\u001b[0;31m---------------------------------------------------------------------------\u001b[0m",
      "\u001b[0;31mNotImplementedError\u001b[0m                       Traceback (most recent call last)",
      "\u001b[0;32m<ipython-input-39-0db57741d9de>\u001b[0m in \u001b[0;36m<module>\u001b[0;34m()\u001b[0m\n\u001b[0;32m----> 1\u001b[0;31m \u001b[0mfirstOrderCondition\u001b[0m\u001b[0;34m(\u001b[0m\u001b[0;36m18\u001b[0m\u001b[0;34m*\u001b[0m\u001b[0mq\u001b[0m\u001b[0;34m+\u001b[0m\u001b[0;36m8\u001b[0m\u001b[0;34m*\u001b[0m\u001b[0mexp\u001b[0m\u001b[0;34m(\u001b[0m\u001b[0;34m-\u001b[0m\u001b[0;36m2\u001b[0m\u001b[0;34m*\u001b[0m\u001b[0mq\u001b[0m\u001b[0;34m**\u001b[0m\u001b[0;36m2\u001b[0m\u001b[0;34m*\u001b[0m\u001b[0mk\u001b[0m \u001b[0;34m/\u001b[0m \u001b[0mm\u001b[0m\u001b[0;34m**\u001b[0m\u001b[0;36m2\u001b[0m\u001b[0;34m)\u001b[0m\u001b[0;34m,\u001b[0m\u001b[0mq\u001b[0m\u001b[0;34m)\u001b[0m\u001b[0;34m\u001b[0m\u001b[0m\n\u001b[0m",
      "\u001b[0;32m<ipython-input-7-1929b16f5e40>\u001b[0m in \u001b[0;36mfirstOrderCondition\u001b[0;34m(exp, var, iSelectedSolution)\u001b[0m\n\u001b[1;32m     14\u001b[0m     \u001b[0mdiffExp\u001b[0m \u001b[0;34m=\u001b[0m \u001b[0msimplify\u001b[0m\u001b[0;34m(\u001b[0m\u001b[0mdiff\u001b[0m\u001b[0;34m(\u001b[0m\u001b[0mexp\u001b[0m\u001b[0;34m,\u001b[0m \u001b[0mvar\u001b[0m\u001b[0;34m)\u001b[0m\u001b[0;34m)\u001b[0m\u001b[0;34m\u001b[0m\u001b[0m\n\u001b[1;32m     15\u001b[0m     \u001b[0mdisplay\u001b[0m\u001b[0;34m(\u001b[0m\u001b[0mdiffExp\u001b[0m\u001b[0;34m)\u001b[0m\u001b[0;34m\u001b[0m\u001b[0m\n\u001b[0;32m---> 16\u001b[0;31m     \u001b[0msolutions\u001b[0m \u001b[0;34m=\u001b[0m \u001b[0msolve\u001b[0m\u001b[0;34m(\u001b[0m\u001b[0mdiffExp\u001b[0m\u001b[0;34m,\u001b[0m \u001b[0mvar\u001b[0m\u001b[0;34m)\u001b[0m\u001b[0;34m\u001b[0m\u001b[0m\n\u001b[0m\u001b[1;32m     17\u001b[0m     \u001b[0mdisplay\u001b[0m\u001b[0;34m(\u001b[0m\u001b[0msolutions\u001b[0m\u001b[0;34m)\u001b[0m\u001b[0;34m\u001b[0m\u001b[0m\n\u001b[1;32m     18\u001b[0m     \u001b[0;32mif\u001b[0m \u001b[0miSelectedSolution\u001b[0m \u001b[0;32mis\u001b[0m \u001b[0;32mnot\u001b[0m \u001b[0;32mNone\u001b[0m\u001b[0;34m:\u001b[0m\u001b[0;34m\u001b[0m\u001b[0m\n",
      "\u001b[0;32m/usr/local/lib/python3.5/dist-packages/sympy/solvers/solvers.py\u001b[0m in \u001b[0;36msolve\u001b[0;34m(f, *symbols, **flags)\u001b[0m\n\u001b[1;32m   1063\u001b[0m     \u001b[0;31m###########################################################################\u001b[0m\u001b[0;34m\u001b[0m\u001b[0;34m\u001b[0m\u001b[0m\n\u001b[1;32m   1064\u001b[0m     \u001b[0;32mif\u001b[0m \u001b[0mbare_f\u001b[0m\u001b[0;34m:\u001b[0m\u001b[0;34m\u001b[0m\u001b[0m\n\u001b[0;32m-> 1065\u001b[0;31m         \u001b[0msolution\u001b[0m \u001b[0;34m=\u001b[0m \u001b[0m_solve\u001b[0m\u001b[0;34m(\u001b[0m\u001b[0mf\u001b[0m\u001b[0;34m[\u001b[0m\u001b[0;36m0\u001b[0m\u001b[0;34m]\u001b[0m\u001b[0;34m,\u001b[0m \u001b[0;34m*\u001b[0m\u001b[0msymbols\u001b[0m\u001b[0;34m,\u001b[0m \u001b[0;34m**\u001b[0m\u001b[0mflags\u001b[0m\u001b[0;34m)\u001b[0m\u001b[0;34m\u001b[0m\u001b[0m\n\u001b[0m\u001b[1;32m   1066\u001b[0m     \u001b[0;32melse\u001b[0m\u001b[0;34m:\u001b[0m\u001b[0;34m\u001b[0m\u001b[0m\n\u001b[1;32m   1067\u001b[0m         \u001b[0msolution\u001b[0m \u001b[0;34m=\u001b[0m \u001b[0m_solve_system\u001b[0m\u001b[0;34m(\u001b[0m\u001b[0mf\u001b[0m\u001b[0;34m,\u001b[0m \u001b[0msymbols\u001b[0m\u001b[0;34m,\u001b[0m \u001b[0;34m**\u001b[0m\u001b[0mflags\u001b[0m\u001b[0;34m)\u001b[0m\u001b[0;34m\u001b[0m\u001b[0m\n",
      "\u001b[0;32m/usr/local/lib/python3.5/dist-packages/sympy/solvers/solvers.py\u001b[0m in \u001b[0;36m_solve\u001b[0;34m(f, *symbols, **flags)\u001b[0m\n\u001b[1;32m   1632\u001b[0m \u001b[0;34m\u001b[0m\u001b[0m\n\u001b[1;32m   1633\u001b[0m     \u001b[0;32mif\u001b[0m \u001b[0mresult\u001b[0m \u001b[0;32mis\u001b[0m \u001b[0;32mFalse\u001b[0m\u001b[0;34m:\u001b[0m\u001b[0;34m\u001b[0m\u001b[0m\n\u001b[0;32m-> 1634\u001b[0;31m         \u001b[0;32mraise\u001b[0m \u001b[0mNotImplementedError\u001b[0m\u001b[0;34m(\u001b[0m\u001b[0;34m'\\n'\u001b[0m\u001b[0;34m.\u001b[0m\u001b[0mjoin\u001b[0m\u001b[0;34m(\u001b[0m\u001b[0;34m[\u001b[0m\u001b[0mmsg\u001b[0m\u001b[0;34m,\u001b[0m \u001b[0mnot_impl_msg\u001b[0m \u001b[0;34m%\u001b[0m \u001b[0mf\u001b[0m\u001b[0;34m]\u001b[0m\u001b[0;34m)\u001b[0m\u001b[0;34m)\u001b[0m\u001b[0;34m\u001b[0m\u001b[0m\n\u001b[0m\u001b[1;32m   1635\u001b[0m \u001b[0;34m\u001b[0m\u001b[0m\n\u001b[1;32m   1636\u001b[0m     \u001b[0;32mif\u001b[0m \u001b[0mflags\u001b[0m\u001b[0;34m.\u001b[0m\u001b[0mget\u001b[0m\u001b[0;34m(\u001b[0m\u001b[0;34m'simplify'\u001b[0m\u001b[0;34m,\u001b[0m \u001b[0;32mTrue\u001b[0m\u001b[0;34m)\u001b[0m\u001b[0;34m:\u001b[0m\u001b[0;34m\u001b[0m\u001b[0m\n",
      "\u001b[0;31mNotImplementedError\u001b[0m: multiple generators [q, exp(k*q**2/m**2)]\nNo algorithms are implemented to solve equation -32*k*q*exp(-2*k*q**2/m**2)/m**2 + 18"
     ]
    }
   ],
   "source": [
    "firstOrderCondition(18*q+8*exp(-2*q**2*k / m**2),q)"
   ]
  },
  {
   "cell_type": "code",
   "execution_count": 47,
   "metadata": {},
   "outputs": [
    {
     "data": {
      "image/png": "[encoded data removed]",
      "text/latex": [
       "$$- 16 k^{- 2 q} \\log{\\left (k \\right )} + \\frac{9 m}{\\sqrt{k} \\sqrt{q}} \\sqrt{\\log{\\left (k \\right )}}$$"
      ],
      "text/plain": [
       "                          ________\n",
       "      -2⋅q          9⋅m⋅╲╱ log(k) \n",
       "- 16⋅k    ⋅log(k) + ──────────────\n",
       "                        √k⋅√q     "
      ]
     },
     "metadata": {},
     "output_type": "display_data"
    },
    {
     "data": {
      "image/png": "[encoded data removed]",
      "text/latex": [
       "$$\\left [ - \\frac{\\operatorname{LambertW}{\\left (- \\frac{81 m^{2}}{64 k} \\right )}}{4 \\log{\\left (k \\right )}}\\right ]$$"
      ],
      "text/plain": [
       "⎡         ⎛     2 ⎞ ⎤\n",
       "⎢         ⎜-81⋅m  ⎟ ⎥\n",
       "⎢-LambertW⎜───────⎟ ⎥\n",
       "⎢         ⎝  64⋅k ⎠ ⎥\n",
       "⎢───────────────────⎥\n",
       "⎣      4⋅log(k)     ⎦"
      ]
     },
     "metadata": {},
     "output_type": "display_data"
    },
    {
     "data": {
      "image/png": "[encoded data removed]",
      "text/latex": [
       "$$- \\frac{\\operatorname{LambertW}{\\left (- \\frac{81 m^{2}}{64 k} \\right )}}{4 \\log{\\left (k \\right )}}$$"
      ],
      "text/plain": [
       "         ⎛     2 ⎞ \n",
       "         ⎜-81⋅m  ⎟ \n",
       "-LambertW⎜───────⎟ \n",
       "         ⎝  64⋅k ⎠ \n",
       "───────────────────\n",
       "      4⋅log(k)     "
      ]
     },
     "metadata": {},
     "output_type": "display_data"
    }
   ],
   "source": [
    "eq = 18*m*sqrt(q*ln(k)/k) + 8/k**(2*q)\n",
    "sol = simplified(firstOrderCondition(eq,q)[0])"
   ]
  },
  {
   "cell_type": "code",
   "execution_count": 49,
   "metadata": {},
   "outputs": [
    {
     "data": {
      "image/png": "[encoded data removed]",
      "text/latex": [
       "$$8 e^{\\frac{1}{2} \\operatorname{LambertW}{\\left (- \\frac{81 m^{2}}{64 k} \\right )}} + \\frac{9 m}{\\sqrt{k}} \\sqrt{- \\frac{\\operatorname{LambertW}{\\left (- \\frac{81 m^{2}}{64 k} \\right )}}{\\log{\\left (k \\right )}}} \\sqrt{\\log{\\left (k \\right )}}$$"
      ],
      "text/plain": [
       "                                  _____________________           \n",
       "           ⎛     2 ⎞             ╱          ⎛     2 ⎞             \n",
       "           ⎜-81⋅m  ⎟            ╱           ⎜-81⋅m  ⎟             \n",
       "   LambertW⎜───────⎟           ╱   -LambertW⎜───────⎟             \n",
       "           ⎝  64⋅k ⎠          ╱             ⎝  64⋅k ⎠     ________\n",
       "   ─────────────────   9⋅m⋅  ╱     ─────────────────── ⋅╲╱ log(k) \n",
       "           2               ╲╱             log(k)                  \n",
       "8⋅ℯ                  + ───────────────────────────────────────────\n",
       "                                            √k                    "
      ]
     },
     "metadata": {},
     "output_type": "display_data"
    },
    {
     "data": {
      "image/png": "[encoded data removed]",
      "text/latex": [
       "$$8 e^{\\frac{1}{2} \\operatorname{LambertW}{\\left (- \\frac{81 m^{2}}{64 k} \\right )}} + \\frac{9 m}{\\sqrt{k}} \\sqrt{- \\frac{\\operatorname{LambertW}{\\left (- \\frac{81 m^{2}}{64 k} \\right )}}{\\log{\\left (k \\right )}}} \\sqrt{\\log{\\left (k \\right )}}$$"
      ],
      "text/plain": [
       "                                  _____________________           \n",
       "           ⎛     2 ⎞             ╱          ⎛     2 ⎞             \n",
       "           ⎜-81⋅m  ⎟            ╱           ⎜-81⋅m  ⎟             \n",
       "   LambertW⎜───────⎟           ╱   -LambertW⎜───────⎟             \n",
       "           ⎝  64⋅k ⎠          ╱             ⎝  64⋅k ⎠     ________\n",
       "   ─────────────────   9⋅m⋅  ╱     ─────────────────── ⋅╲╱ log(k) \n",
       "           2               ╲╱             log(k)                  \n",
       "8⋅ℯ                  + ───────────────────────────────────────────\n",
       "                                            √k                    "
      ]
     },
     "execution_count": 49,
     "metadata": {},
     "output_type": "execute_result"
    }
   ],
   "source": [
    "simplified(eq.subs(q,sol))"
   ]
  },
  {
   "cell_type": "code",
   "execution_count": 50,
   "metadata": {},
   "outputs": [
    {
     "data": {
      "image/png": "[encoded data removed]",
      "text/latex": [
       "$$\\frac{m}{2 \\sqrt{k}} \\sqrt{\\log{\\left (\\frac{64 k}{81 m^{2}} \\right )}}$$"
      ],
      "text/plain": [
       "       ____________\n",
       "      ╱    ⎛ 64⋅k⎞ \n",
       "m⋅   ╱  log⎜─────⎟ \n",
       "    ╱      ⎜    2⎟ \n",
       "  ╲╱       ⎝81⋅m ⎠ \n",
       "───────────────────\n",
       "        2⋅√k       "
      ]
     },
     "metadata": {},
     "output_type": "display_data"
    }
   ],
   "source": [
    "qopt = simplified(sqrt(m**2 / 4 / k * ln(16**2 * k / 18**2 / m**2)))"
   ]
  },
  {
   "cell_type": "code",
   "execution_count": 53,
   "metadata": {},
   "outputs": [
    {
     "data": {
      "image/png": "[encoded data removed]",
      "text/latex": [
       "$$18 q + 8 e^{- \\frac{2 k}{m^{2}} q^{2}}$$"
      ],
      "text/plain": [
       "                2 \n",
       "          -2⋅k⋅q  \n",
       "          ────────\n",
       "              2   \n",
       "             m    \n",
       "18⋅q + 8⋅ℯ        "
      ]
     },
     "metadata": {},
     "output_type": "display_data"
    }
   ],
   "source": [
    "eq1 = simplified(18*q + 8*exp(-2 *k*q**2/m**2))"
   ]
  },
  {
   "cell_type": "code",
   "execution_count": 55,
   "metadata": {},
   "outputs": [
    {
     "data": {
      "image/png": "[encoded data removed]",
      "text/latex": [
       "$$\\frac{9 m}{\\sqrt{k}} \\left(\\sqrt{\\log{\\left (\\frac{64 k}{81 m^{2}} \\right )}} + 1\\right)$$"
      ],
      "text/plain": [
       "    ⎛     ____________    ⎞\n",
       "    ⎜    ╱    ⎛ 64⋅k⎞     ⎟\n",
       "9⋅m⋅⎜   ╱  log⎜─────⎟  + 1⎟\n",
       "    ⎜  ╱      ⎜    2⎟     ⎟\n",
       "    ⎝╲╱       ⎝81⋅m ⎠     ⎠\n",
       "───────────────────────────\n",
       "             √k            "
      ]
     },
     "metadata": {},
     "output_type": "display_data"
    },
    {
     "data": {
      "image/png": "[encoded data removed]",
      "text/latex": [
       "$$\\frac{9 m}{\\sqrt{k}} \\left(\\sqrt{\\log{\\left (\\frac{64 k}{81 m^{2}} \\right )}} + 1\\right)$$"
      ],
      "text/plain": [
       "    ⎛     ____________    ⎞\n",
       "    ⎜    ╱    ⎛ 64⋅k⎞     ⎟\n",
       "9⋅m⋅⎜   ╱  log⎜─────⎟  + 1⎟\n",
       "    ⎜  ╱      ⎜    2⎟     ⎟\n",
       "    ⎝╲╱       ⎝81⋅m ⎠     ⎠\n",
       "───────────────────────────\n",
       "             √k            "
      ]
     },
     "execution_count": 55,
     "metadata": {},
     "output_type": "execute_result"
    }
   ],
   "source": [
    "simplified(eq1.subs(q,qopt))"
   ]
  },
  {
   "cell_type": "code",
   "execution_count": 58,
   "metadata": {},
   "outputs": [
    {
     "data": {
      "text/plain": [
       "[{'x': [1, 2, 3], 'y': [4, 5, 6]}, {'x': [11, 21, 31], 'y': [41, 51, 61]}]"
      ]
     },
     "execution_count": 58,
     "metadata": {},
     "output_type": "execute_result"
    }
   ],
   "source": [
    " arr = [{\"x\":[1,2,3],\"y\":[4,5,6]}, {\"x\":[11,21,31],\"y\":[41,51,61]}]; arr"
   ]
  },
  {
   "cell_type": "code",
   "execution_count": 67,
   "metadata": {},
   "outputs": [
    {
     "data": {
      "image/png": "[encoded data removed]",
      "text/latex": [
       "$$\\left [ 1, \\quad 2, \\quad 3, \\quad 11, \\quad 21, \\quad 31\\right ]$$"
      ],
      "text/plain": [
       "[1, 2, 3, 11, 21, 31]"
      ]
     },
     "execution_count": 67,
     "metadata": {},
     "output_type": "execute_result"
    }
   ],
   "source": [
    "[v for a in arr for v in a[\"x\"]]"
   ]
  },
  {
   "cell_type": "code",
   "execution_count": null,
   "metadata": {
    "collapsed": true
   },
   "outputs": [],
   "source": []
  }
 ],
 "metadata": {
  "kernelspec": {
   "display_name": "Python 3",
   "language": "python",
   "name": "python3"
  },
  "language_info": {
   "codemirror_mode": {
    "name": "ipython",
    "version": 3
   },
   "file_extension": ".py",
   "mimetype": "text/x-python",
   "name": "python",
   "nbconvert_exporter": "python",
   "pygments_lexer": "ipython3",
   "version": "3.5.2"
  }
 },
 "nbformat": 4,
 "nbformat_minor": 2
}
